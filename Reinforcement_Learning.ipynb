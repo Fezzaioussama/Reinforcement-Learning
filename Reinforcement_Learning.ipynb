{
  "nbformat": 4,
  "nbformat_minor": 0,
  "metadata": {
    "colab": {
      "provenance": [],
      "authorship_tag": "ABX9TyMedTxU6fRav8x6j2NiqAuQ",
      "include_colab_link": true
    },
    "kernelspec": {
      "name": "python3",
      "display_name": "Python 3"
    },
    "language_info": {
      "name": "python"
    }
  },
  "cells": [
    {
      "cell_type": "markdown",
      "metadata": {
        "id": "view-in-github",
        "colab_type": "text"
      },
      "source": [
        "<a href=\"https://colab.research.google.com/github/Fezzaioussama/Reinforcement-Learning/blob/main/Reinforcement_Learning.ipynb\" target=\"_parent\"><img src=\"https://colab.research.google.com/assets/colab-badge.svg\" alt=\"Open In Colab\"/></a>"
      ]
    },
    {
      "cell_type": "markdown",
      "source": [
        "#Value iteration"
      ],
      "metadata": {
        "id": "4S76JWRjzbjC"
      }
    },
    {
      "cell_type": "code",
      "execution_count": 1,
      "metadata": {
        "colab": {
          "base_uri": "https://localhost:8080/"
        },
        "id": "211yEjmjUO2C",
        "outputId": "c7d36a46-34bc-4f60-ae8d-62ff12a61db5"
      },
      "outputs": [
        {
          "output_type": "stream",
          "name": "stdout",
          "text": [
            "Requirement already satisfied: gym in /usr/local/lib/python3.10/dist-packages (0.25.2)\n",
            "Requirement already satisfied: numpy>=1.18.0 in /usr/local/lib/python3.10/dist-packages (from gym) (1.23.5)\n",
            "Requirement already satisfied: cloudpickle>=1.2.0 in /usr/local/lib/python3.10/dist-packages (from gym) (2.2.1)\n",
            "Requirement already satisfied: gym-notices>=0.0.4 in /usr/local/lib/python3.10/dist-packages (from gym) (0.0.8)\n"
          ]
        }
      ],
      "source": [
        "!pip install gym"
      ]
    },
    {
      "cell_type": "code",
      "source": [
        "import gym\n",
        "import numpy as np\n",
        "\n",
        "env = gym.make('FrozenLake-v1')\n",
        "num_states = env.observation_space.n\n",
        "num_actions = env.action_space.n\n",
        "max_iterations = 1000\n",
        "delta = 10**-3\n",
        "\n",
        "epsilon =0.9\n",
        "\n",
        "gamma = 0.9\n",
        "\n",
        "R = np.zeros([num_states, num_actions, num_states])\n",
        "T = np.zeros([num_states, num_actions, num_states])\n",
        "V = np.zeros([env.observation_space.n])\n",
        "Q = np.zeros([env.observation_space.n, env.action_space.n])\n",
        "\n",
        "\n",
        "print(\"FrozenLake-v1\")\n",
        "print(\"Actions: \", num_actions)\n",
        "print(\"States: \", num_states)\n",
        "print(env.env.desc)"
      ],
      "metadata": {
        "colab": {
          "base_uri": "https://localhost:8080/"
        },
        "id": "GX1EG4YaUbAB",
        "outputId": "eb2b9cf0-f329-4a6d-aac5-bcffb558aed1"
      },
      "execution_count": 89,
      "outputs": [
        {
          "output_type": "stream",
          "name": "stdout",
          "text": [
            "FrozenLake-v1\n",
            "Actions:  4\n",
            "States:  16\n",
            "[[b'S' b'F' b'F' b'F']\n",
            " [b'F' b'H' b'F' b'H']\n",
            " [b'F' b'F' b'F' b'H']\n",
            " [b'H' b'F' b'F' b'G']]\n"
          ]
        },
        {
          "output_type": "stream",
          "name": "stderr",
          "text": [
            "/usr/local/lib/python3.10/dist-packages/ipykernel/ipkernel.py:283: DeprecationWarning: `should_run_async` will not call `transform_cell` automatically in the future. Please pass the result to `transformed_cell` argument and any exception that happen during thetransform in `preprocessing_exc_tuple` in IPython 7.17 and above.\n",
            "  and should_run_async(code)\n",
            "/usr/local/lib/python3.10/dist-packages/gym/core.py:317: DeprecationWarning: \u001b[33mWARN: Initializing wrapper in old step API which returns one bool instead of two. It is recommended to set `new_step_api=True` to use new step API. This will be the default behaviour in future.\u001b[0m\n",
            "  deprecation(\n",
            "/usr/local/lib/python3.10/dist-packages/gym/wrappers/step_api_compatibility.py:39: DeprecationWarning: \u001b[33mWARN: Initializing environment in old step API which returns one bool instead of two. It is recommended to set `new_step_api=True` to use new step API. This will be the default behaviour in future.\u001b[0m\n",
            "  deprecation(\n"
          ]
        }
      ]
    },
    {
      "cell_type": "code",
      "source": [
        "precedant_value=np.zeros([env.observation_space.n])\n",
        "polisy=np.zeros([env.observation_space.n])\n",
        "v=0\n",
        "discount=0.9\n",
        "count=0\n",
        "\n",
        "for i in range(100000):\n",
        "  precedant_value=np.copy(V)\n",
        "  for s in range(env.observation_space.n):\n",
        "\n",
        "    Q=[]\n",
        "    for a in range(env.action_space.n):\n",
        "      q=[]\n",
        "      for transition in env.env.P[s][a]:\n",
        "\n",
        "          prop,ns,reward,done=transition\n",
        "\n",
        "          R[s,a,ns]=reward\n",
        "          T[s,a,ns]=prop\n",
        "          q.append(prop*(reward+discount*V[ns]))\n",
        "      Q.append(np.sum(q))\n",
        "\n",
        "    polisy[s]=np.argmax(Q)\n",
        "    V[s]=np.max(Q)\n",
        "\n",
        "\n",
        "  if (np.sum(np.fabs(V - precedant_value)))<1e-20:\n",
        "    print ('Value-iteration converged at iteration# %d.' %(i+1))\n",
        "    break"
      ],
      "metadata": {
        "colab": {
          "base_uri": "https://localhost:8080/"
        },
        "id": "nhpRjvxzUmuY",
        "outputId": "f0172a25-0dfe-4f0d-d8cc-289b7cd4c721"
      },
      "execution_count": 90,
      "outputs": [
        {
          "output_type": "stream",
          "name": "stdout",
          "text": [
            "Value-iteration converged at iteration# 196.\n"
          ]
        }
      ]
    },
    {
      "cell_type": "code",
      "source": [
        "print(polisy)"
      ],
      "metadata": {
        "colab": {
          "base_uri": "https://localhost:8080/"
        },
        "id": "QeJXl5urzkzR",
        "outputId": "da80c9b3-1fdb-4ef0-92d5-4b3b1dce7675"
      },
      "execution_count": 92,
      "outputs": [
        {
          "output_type": "stream",
          "name": "stdout",
          "text": [
            "[0. 3. 0. 3. 0. 0. 0. 0. 3. 1. 0. 0. 0. 2. 1. 0.]\n"
          ]
        }
      ]
    },
    {
      "cell_type": "markdown",
      "source": [
        "#SARSA"
      ],
      "metadata": {
        "id": "wJERySLLzfcI"
      }
    },
    {
      "cell_type": "code",
      "source": [
        "import gym\n",
        "import numpy as np\n",
        "\n",
        "env = gym.make('FrozenLake-v1')\n",
        "num_states = env.observation_space.n\n",
        "num_actions = env.action_space.n\n",
        "max_iterations = 1000\n",
        "delta = 10**-3\n",
        "\n",
        "epsilon =0.9\n",
        "\n",
        "gamma = 0.9\n",
        "\n",
        "R = np.zeros([num_states, num_actions, num_states])\n",
        "T = np.zeros([num_states, num_actions, num_states])\n",
        "V = np.zeros([env.observation_space.n])\n",
        "Q = np.zeros([env.observation_space.n, env.action_space.n])\n",
        "\n",
        "\n",
        "print(\"FrozenLake-v1\")\n",
        "print(\"Actions: \", num_actions)\n",
        "print(\"States: \", num_states)\n",
        "print(env.env.desc)"
      ],
      "metadata": {
        "colab": {
          "base_uri": "https://localhost:8080/"
        },
        "id": "HNrNBEa5zhU_",
        "outputId": "d5e934c7-e61b-44e0-d3cc-a964942059e9"
      },
      "execution_count": 145,
      "outputs": [
        {
          "output_type": "stream",
          "name": "stdout",
          "text": [
            "FrozenLake-v1\n",
            "Actions:  4\n",
            "States:  16\n",
            "[[b'S' b'F' b'F' b'F']\n",
            " [b'F' b'H' b'F' b'H']\n",
            " [b'F' b'F' b'F' b'H']\n",
            " [b'H' b'F' b'F' b'G']]\n"
          ]
        }
      ]
    },
    {
      "cell_type": "code",
      "source": [
        "import random\n",
        "def epsilon_greedy(state, epsilon):\n",
        "    if random.uniform(0,1) < epsilon:\n",
        "        return env.action_space.sample()\n",
        "    else:\n",
        "        return max(list(range(env.action_space.n)), key = lambda x: Q[(state,x)])"
      ],
      "metadata": {
        "id": "b2Dasjbh7vFG"
      },
      "execution_count": 140,
      "outputs": []
    },
    {
      "cell_type": "code",
      "source": [
        "precedant_value=np.zeros([env.observation_space.n])\n",
        "polisy=np.zeros([env.observation_space.n])\n",
        "discount=0.9\n",
        "alpha=0.85"
      ],
      "metadata": {
        "id": "7t-wVpn0D6fF"
      },
      "execution_count": 141,
      "outputs": []
    },
    {
      "cell_type": "code",
      "source": [
        "for i in range(4000):\n",
        "  precedant_value=np.copy(V)\n",
        "  s=env.reset()\n",
        "  a=epsilon_greedy(s, 0.8)\n",
        "  while True:\n",
        "    ns, reward, done, _ = env.step(a)\n",
        "\n",
        "    na = epsilon_greedy(ns,epsilon)\n",
        "    Q[s,a]=(1-alpha)*Q[s,a]+(reward+discount*Q[ns,na])\n",
        "\n",
        "    s=ns\n",
        "    a=na\n",
        "    if done:\n",
        "      break\n",
        "  for s in range(env.observation_space.n):\n",
        "    V[s]=np.max(Q[s,:])\n",
        "    polisy[s]=np.argmax(Q[s,:])\n",
        "  # if (np.sum(np.fabs(V - precedant_value)))<1e-20:\n",
        "  #   print ('Value-iteration converged at iteration# %d.' %(i+1))\n",
        "  #   break"
      ],
      "metadata": {
        "id": "OoZG_qSB79xY"
      },
      "execution_count": 142,
      "outputs": []
    },
    {
      "cell_type": "code",
      "source": [
        "print(Q)"
      ],
      "metadata": {
        "colab": {
          "base_uri": "https://localhost:8080/"
        },
        "id": "9zx4H4opJSpX",
        "outputId": "0002bd0e-ffd1-463e-9543-8d0af3b6692c"
      },
      "execution_count": 143,
      "outputs": [
        {
          "output_type": "stream",
          "name": "stdout",
          "text": [
            "[[3.44423032e-02 3.04901161e-02 2.83660829e-02 8.99308968e-03]\n",
            " [6.75397883e-03 5.75140537e-04 3.22448402e-03 7.67680172e-02]\n",
            " [5.03930392e-02 2.49609465e-03 1.14120704e-01 1.81739539e-02]\n",
            " [9.75668406e-02 7.25215906e-02 1.58156962e-02 1.87430929e-03]\n",
            " [1.31250289e-01 2.17972889e-02 8.57522787e-02 2.26292829e-02]\n",
            " [0.00000000e+00 0.00000000e+00 0.00000000e+00 0.00000000e+00]\n",
            " [1.03493145e+00 8.51576111e-11 6.08528300e-03 2.13312892e-03]\n",
            " [0.00000000e+00 0.00000000e+00 0.00000000e+00 0.00000000e+00]\n",
            " [1.37723625e-02 9.53593189e-02 6.77732713e-02 2.59279702e-02]\n",
            " [3.38603387e-02 3.27533372e-01 3.95966874e-01 9.47329474e-03]\n",
            " [2.84350626e-01 9.96761873e-02 3.94251778e-03 1.12860875e-02]\n",
            " [0.00000000e+00 0.00000000e+00 0.00000000e+00 0.00000000e+00]\n",
            " [0.00000000e+00 0.00000000e+00 0.00000000e+00 0.00000000e+00]\n",
            " [4.51889187e-01 3.05265281e-03 7.63262506e-01 7.17480278e-02]\n",
            " [3.05115242e-01 1.06031402e+00 1.68429089e-01 9.36204604e-01]\n",
            " [0.00000000e+00 0.00000000e+00 0.00000000e+00 0.00000000e+00]]\n"
          ]
        }
      ]
    },
    {
      "cell_type": "code",
      "source": [
        "print(polisy)\n",
        "print(V)"
      ],
      "metadata": {
        "colab": {
          "base_uri": "https://localhost:8080/"
        },
        "id": "VIIZIx8FA2ut",
        "outputId": "d56d11a2-c20c-4683-cf7f-01bb1a88b0d1"
      },
      "execution_count": 144,
      "outputs": [
        {
          "output_type": "stream",
          "name": "stdout",
          "text": [
            "[0. 3. 2. 0. 0. 0. 0. 0. 1. 2. 0. 0. 0. 2. 1. 0.]\n",
            "[0.0344423  0.07676802 0.1141207  0.09756684 0.13125029 0.\n",
            " 1.03493145 0.         0.09535932 0.39596687 0.28435063 0.\n",
            " 0.         0.76326251 1.06031402 0.        ]\n"
          ]
        }
      ]
    },
    {
      "cell_type": "markdown",
      "source": [
        "#Q learning"
      ],
      "metadata": {
        "id": "0Rh0sNTSBGGL"
      }
    },
    {
      "cell_type": "code",
      "source": [
        "import gym\n",
        "import numpy as np\n",
        "\n",
        "env = gym.make('FrozenLake-v1')\n",
        "num_states = env.observation_space.n\n",
        "num_actions = env.action_space.n\n",
        "max_iterations = 1000\n",
        "delta = 10**-3\n",
        "\n",
        "epsilon =0.9\n",
        "\n",
        "gamma = 0.9\n",
        "\n",
        "R = np.zeros([num_states, num_actions, num_states])\n",
        "T = np.zeros([num_states, num_actions, num_states])\n",
        "V = np.zeros([env.observation_space.n])\n",
        "Q = np.zeros([env.observation_space.n, env.action_space.n])\n",
        "\n",
        "\n",
        "print(\"FrozenLake-v1\")\n",
        "print(\"Actions: \", num_actions)\n",
        "print(\"States: \", num_states)\n",
        "print(env.env.desc)"
      ],
      "metadata": {
        "colab": {
          "base_uri": "https://localhost:8080/"
        },
        "id": "gHm_7Kn9A7dr",
        "outputId": "fd29f098-b2db-4bbf-ddbc-46355140585a"
      },
      "execution_count": 151,
      "outputs": [
        {
          "output_type": "stream",
          "name": "stdout",
          "text": [
            "FrozenLake-v1\n",
            "Actions:  4\n",
            "States:  16\n",
            "[[b'S' b'F' b'F' b'F']\n",
            " [b'F' b'H' b'F' b'H']\n",
            " [b'F' b'F' b'F' b'H']\n",
            " [b'H' b'F' b'F' b'G']]\n"
          ]
        },
        {
          "output_type": "stream",
          "name": "stderr",
          "text": [
            "/usr/local/lib/python3.10/dist-packages/gym/core.py:317: DeprecationWarning: \u001b[33mWARN: Initializing wrapper in old step API which returns one bool instead of two. It is recommended to set `new_step_api=True` to use new step API. This will be the default behaviour in future.\u001b[0m\n",
            "  deprecation(\n",
            "/usr/local/lib/python3.10/dist-packages/gym/wrappers/step_api_compatibility.py:39: DeprecationWarning: \u001b[33mWARN: Initializing environment in old step API which returns one bool instead of two. It is recommended to set `new_step_api=True` to use new step API. This will be the default behaviour in future.\u001b[0m\n",
            "  deprecation(\n"
          ]
        }
      ]
    },
    {
      "cell_type": "code",
      "source": [
        "R = np.zeros([num_states, num_actions, num_states])\n",
        "T = np.zeros([num_states, num_actions, num_states])\n",
        "V = np.zeros([env.observation_space.n])\n",
        "Q = np.zeros([env.observation_space.n, env.action_space.n])"
      ],
      "metadata": {
        "id": "mc53Gb9iLyoR"
      },
      "execution_count": 161,
      "outputs": []
    },
    {
      "cell_type": "code",
      "source": [
        "import random\n",
        "def epsilon_greedy(state, epsilon):\n",
        "    if random.uniform(0,1) < epsilon:\n",
        "        return env.action_space.sample()\n",
        "    else:\n",
        "        return max(list(range(env.action_space.n)), key = lambda x: Q[(state,x)])"
      ],
      "metadata": {
        "id": "mpv1AcJ0Jd63"
      },
      "execution_count": 162,
      "outputs": []
    },
    {
      "cell_type": "code",
      "source": [
        "precedant_value=np.zeros([env.observation_space.n])\n",
        "polisy=np.zeros([env.observation_space.n])\n",
        "discount=0.9\n",
        "alpha=0.85"
      ],
      "metadata": {
        "id": "KqonFhuEJk75"
      },
      "execution_count": 163,
      "outputs": []
    },
    {
      "cell_type": "code",
      "source": [
        "for i in range(4000):\n",
        "  precedant_value=np.copy(V)\n",
        "  s=env.reset()\n",
        "  a=epsilon_greedy(s, 0.8)\n",
        "\n",
        "  while True:\n",
        "    a=epsilon_greedy(s, 0.8)\n",
        "    ns, reward, done, _ = env.step(a)\n",
        "    Q[s,a]=(1-alpha)*Q[s,a]+(reward+discount*(np.max(Q[ns,:])))\n",
        "    s=ns\n",
        "\n",
        "    if done:\n",
        "      break\n",
        "\n",
        "  for s in range(env.observation_space.n):\n",
        "    V[s]=np.max(Q[s,:])\n",
        "    polisy[s]=np.argmax(Q[s,:])\n",
        "\n",
        "  # if (np.sum(np.fabs(V - precedant_value)))<1e-20:\n",
        "  #   print ('Value-iteration converged at iteration# %d.' %(i+1))\n",
        "  #   break"
      ],
      "metadata": {
        "id": "b47KsBF7Jl49"
      },
      "execution_count": 164,
      "outputs": []
    },
    {
      "cell_type": "code",
      "source": [
        "print(Q)\n",
        "print(V)\n",
        "print(polisy)"
      ],
      "metadata": {
        "colab": {
          "base_uri": "https://localhost:8080/"
        },
        "id": "8YtiK2NfKJ5y",
        "outputId": "d3a5aa0a-2502-4754-b013-217e13a093d1"
      },
      "execution_count": 165,
      "outputs": [
        {
          "output_type": "stream",
          "name": "stdout",
          "text": [
            "[[1.02508663e+88 1.23404262e+88 7.16062661e+87 1.15936903e+88]\n",
            " [7.46405381e+87 2.44359963e+87 4.65960391e+86 3.02248579e+87]\n",
            " [8.17193145e+86 1.35596681e+86 1.34094513e+87 9.56355150e+86]\n",
            " [1.74676593e+86 8.46985757e+86 7.36182207e+84 7.63494111e+86]\n",
            " [6.21295691e+87 2.63206194e+87 9.38556517e+87 6.43761007e+87]\n",
            " [0.00000000e+00 0.00000000e+00 0.00000000e+00 0.00000000e+00]\n",
            " [1.02362182e+86 2.18958102e+83 8.97469731e+76 1.22575652e+87]\n",
            " [0.00000000e+00 0.00000000e+00 0.00000000e+00 0.00000000e+00]\n",
            " [2.77793549e+87 6.50251633e+85 7.85323836e+86 2.74456651e+87]\n",
            " [5.46882018e+83 3.75929955e+86 1.67868342e+84 5.52591549e+84]\n",
            " [1.62191185e+84 1.31582925e+78 1.57728727e+83 1.30451533e+86]\n",
            " [0.00000000e+00 0.00000000e+00 0.00000000e+00 0.00000000e+00]\n",
            " [0.00000000e+00 0.00000000e+00 0.00000000e+00 0.00000000e+00]\n",
            " [3.63235208e+84 1.84016652e+83 4.03083521e+84 2.36593277e+82]\n",
            " [1.75254140e+83 1.75252686e+83 1.92114309e+75 4.54069800e+78]\n",
            " [0.00000000e+00 0.00000000e+00 0.00000000e+00 0.00000000e+00]]\n",
            "[1.23404262e+88 7.46405381e+87 1.34094513e+87 8.46985757e+86\n",
            " 9.38556517e+87 0.00000000e+00 1.22575652e+87 0.00000000e+00\n",
            " 2.77793549e+87 3.75929955e+86 1.30451533e+86 0.00000000e+00\n",
            " 0.00000000e+00 4.03083521e+84 1.75254140e+83 0.00000000e+00]\n",
            "[1. 0. 2. 1. 2. 0. 3. 0. 0. 1. 3. 0. 0. 2. 0. 0.]\n"
          ]
        }
      ]
    }
  ]
}